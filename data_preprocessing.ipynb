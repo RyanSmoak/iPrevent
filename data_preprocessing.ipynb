{
  "cells": [
    {
      "cell_type": "markdown",
      "metadata": {
        "id": "view-in-github",
        "colab_type": "text"
      },
      "source": [
        "<a href=\"https://colab.research.google.com/github/RyanSmoak/iPrevent/blob/main/data_preprocessing.ipynb\" target=\"_parent\"><img src=\"https://colab.research.google.com/assets/colab-badge.svg\" alt=\"Open In Colab\"/></a>"
      ]
    },
    {
      "cell_type": "code",
      "execution_count": null,
      "metadata": {
        "id": "kj-yV2TlzEck"
      },
      "outputs": [],
      "source": [
        "import os\n",
        "import pandas as pd\n",
        "import matplotlib.pyplot as plt\n",
        "import seaborn as sns\n",
        "from sklearn.impute import SimpleImputer\n",
        "from sklearn.model_selection import train_test_split\n",
        "from sklearn.preprocessing import OneHotEncoder, StandardScaler\n",
        "\n",
        "from imblearn.over_sampling import SMOTE"
      ]
    },
    {
      "cell_type": "code",
      "execution_count": null,
      "metadata": {
        "id": "PefgEk3OzEcl"
      },
      "outputs": [],
      "source": [
        "def load_data(file_path):\n",
        "    \"\"\"Load dataset from a CSV file.\"\"\"\n",
        "    df = pd.read_csv(file_path)\n",
        "    return df"
      ]
    },
    {
      "cell_type": "code",
      "execution_count": null,
      "metadata": {
        "id": "36LwED_bzEcm"
      },
      "outputs": [],
      "source": [
        "def perform_eda(df, dataset_name=\"\"):\n",
        "    \"\"\"Perform exploratory data analysis on the dataset.\"\"\"\n",
        "    # Basic dataset overview\n",
        "    print(f\"{dataset_name} First 5 Rows of Data Set:\\n\", df.head())\n",
        "    print(f\"\\n{dataset_name} Information about the Data Set:\\n\", df.info())\n",
        "    print(f\"\\n{dataset_name} Missing Values in the Data Set:\\n\", df.isnull().sum())\n",
        "    print(f\"\\n{dataset_name} Basic Statistics:\\n\", df.describe())\n",
        "\n",
        "    # Distribution of categorical variables\n",
        "    categorical_columns = df.select_dtypes(include=['object', 'category']).columns\n",
        "    for column in categorical_columns:\n",
        "        plt.figure(figsize=(15, 10))\n",
        "        sns.countplot(data=df, x=column)\n",
        "        plt.title(f'{dataset_name} Distribution of {column}')\n",
        "        plt.show()\n",
        "\n",
        "    # Distribution of numerical variables\n",
        "    numeric_columns = df.select_dtypes(include=['float64', 'int64']).columns\n",
        "    df[numeric_columns].hist(bins=15, figsize=(20, 15))\n",
        "    plt.suptitle(f'{dataset_name} Distribution of numerical variables')\n",
        "    plt.show()\n",
        "\n",
        "    # Correlation matrix (DoctorInCharge column removed if present)\n",
        "    if 'DoctorInCharge' in df.columns:\n",
        "        df_corr = df.drop(columns=['DoctorInCharge'])\n",
        "    else:\n",
        "        df_corr = df.copy()\n",
        "    plt.figure(figsize=(15, 10))\n",
        "    sns.heatmap(df_corr.corr(), annot=True, cmap='coolwarm')\n",
        "    plt.title(f'{dataset_name} Correlation Matrix')\n",
        "    plt.show()"
      ]
    },
    {
      "cell_type": "code",
      "execution_count": null,
      "metadata": {
        "id": "OO39ctFdzEcm"
      },
      "outputs": [],
      "source": [
        "def handle_missing_values(df, strategy='mean'):\n",
        "    \"\"\"Handle missing values in numerical columns using the specified strategy (mean, median, most_frequent).\"\"\"\n",
        "    imputer = SimpleImputer(strategy=strategy)\n",
        "    numeric_columns = df.select_dtypes(include=['float64', 'int64']).columns\n",
        "    df[numeric_columns] = imputer.fit_transform(df[numeric_columns])\n",
        "\n",
        "    # Optionally handle categorical columns (e.g., with 'most_frequent')\n",
        "    categorical_columns = df.select_dtypes(include=['object']).columns\n",
        "    if not categorical_columns.empty:\n",
        "        cat_imputer = SimpleImputer(strategy='most_frequent')\n",
        "        df[categorical_columns] = cat_imputer.fit_transform(df[categorical_columns])\n",
        "    return df"
      ]
    },
    {
      "cell_type": "code",
      "execution_count": null,
      "metadata": {
        "id": "7u-acIInzEcm"
      },
      "outputs": [],
      "source": [
        "def encode_categorical_values(df, drop_first=True):\n",
        "    \"\"\"One-hot encode categorical variables. Can drop the first category to avoid multi-collinearity.\"\"\"\n",
        "    categorical_columns = df.select_dtypes(include=['object']).columns\n",
        "    encoder = OneHotEncoder(sparse_output=False, drop='first' if drop_first else None)\n",
        "    encoded_columns = pd.DataFrame(encoder.fit_transform(df[categorical_columns]),\n",
        "                                   columns=encoder.get_feature_names_out(categorical_columns),\n",
        "                                   index=df.index)  # Ensure matching index\n",
        "\n",
        "    # Drop original categorical columns and concatenate the encoded columns\n",
        "    df = df.drop(categorical_columns, axis=1)\n",
        "    df = df.drop('PatientID', axis=1)\n",
        "    df = pd.concat([df, encoded_columns], axis=1)\n",
        "    return df"
      ]
    },
    {
      "cell_type": "code",
      "source": [
        "from sklearn.preprocessing import PolynomialFeatures\n",
        "\n",
        "# Creating new features\n",
        "def create_new_features(df):\n",
        "    # For example, we can add the product of age and BMI as a new feature\n",
        "    df['Age_BMI'] = df['Age'] * df['BMI']\n",
        "    return df\n",
        "\n",
        "\n",
        "# Creating Polynomial Features\n",
        "def add_polynomial_features(df, degree=2):\n",
        "    poly = PolynomialFeatures(degree, include_bias=False)\n",
        "    numeric_columns = df.select_dtypes(include=['float64', 'int64']).columns\n",
        "    poly_features = poly.fit_transform(df[numeric_columns])\n",
        "    poly_feature_names = poly.get_feature_names_out(numeric_columns)\n",
        "    poly_df = pd.DataFrame(poly_features, columns=poly_feature_names)\n",
        "\n",
        "    df = df.reset_index(drop=True)\n",
        "    poly_df = poly_df.reset_index(drop=True)\n",
        "\n",
        "    df = pd.concat([df, poly_df], axis=1)\n",
        "    return df"
      ],
      "metadata": {
        "id": "26UczCqAjSNG"
      },
      "execution_count": null,
      "outputs": []
    },
    {
      "cell_type": "code",
      "execution_count": null,
      "metadata": {
        "id": "MX5gY33JzEcn"
      },
      "outputs": [],
      "source": [
        "def normalize_data(df):\n",
        "    \"\"\"Normalize numerical columns using StandardScaler (zero mean, unit variance).\"\"\"\n",
        "    scaler = StandardScaler()\n",
        "    numeric_columns = df.select_dtypes(include=['float64', 'int64']).columns\n",
        "    df[numeric_columns] = scaler.fit_transform(df[numeric_columns])\n",
        "    return df"
      ]
    },
    {
      "cell_type": "code",
      "execution_count": null,
      "metadata": {
        "id": "rp3SY7jnzEcn"
      },
      "outputs": [],
      "source": [
        "def split_data(df, target_column, test_size=0.2, random_state=42):\n",
        "    \"\"\"Split the data into training and testing sets.\"\"\"\n",
        "    # Separate the features (X) and the target variable (y)\n",
        "    X = df.drop(target_column, axis=1)  # Dropping the target column to get features\n",
        "    y = df[target_column]  # Target variable\n",
        "\n",
        "    # Split the data into training and testing sets\n",
        "    X_train, X_test, y_train, y_test = train_test_split(X, y, test_size=test_size, random_state=random_state)\n",
        "    return X_train, X_test, y_train, y_test  # Returning the split datasets"
      ]
    },
    {
      "cell_type": "code",
      "execution_count": null,
      "metadata": {
        "id": "ZUSuJC2OzEcn"
      },
      "outputs": [],
      "source": [
        "def save_datasets(X_train, X_test, y_train, y_test, X_cv, y_cv, output_dir):\n",
        "    \"\"\"Save training and testing sets to CSV files.\"\"\"\n",
        "    # Create the output directory if it doesn't exist\n",
        "    os.makedirs(output_dir, exist_ok=True)\n",
        "\n",
        "    # Save training and testing sets to CSV files\n",
        "    X_train.to_csv(os.path.join(output_dir, 'X_train.csv'), index=False)\n",
        "    X_test.to_csv(os.path.join(output_dir, 'X_test.csv'), index=False)\n",
        "    y_train.to_csv(os.path.join(output_dir, 'y_train.csv'), index=False)\n",
        "    y_test.to_csv(os.path.join(output_dir, 'y_test.csv'), index=False)\n",
        "    X_cv.to_csv(os.path.join(output_dir, 'X_cv.csv'), index=False)\n",
        "    y_cv.to_csv(os.path.join(output_dir, 'y_cv.csv'), index=False)\n",
        "\n",
        "    # Print confirmation message\n",
        "    print(f\"Datasets saved to {output_dir}\")"
      ]
    },
    {
      "cell_type": "code",
      "execution_count": null,
      "metadata": {
        "id": "UNA-zuZfzEcn"
      },
      "outputs": [],
      "source": [
        "from sklearn.model_selection import train_test_split\n",
        "from imblearn.over_sampling import SMOTE\n",
        "\n",
        "def main(data, target_column, output_dir):\n",
        "    \"\"\"Main function to run the data processing pipeline.\"\"\"\n",
        "\n",
        "    df = create_new_features(data)\n",
        "    df = add_polynomial_features(data, 5)\n",
        "\n",
        "    df = data.drop(columns=['Diagnosis'])\n",
        "    df_target = data['Diagnosis']\n",
        "    #perform_eda(df, dataset_name=\"Original\")\n",
        "    df = handle_missing_values(df)\n",
        "    df = encode_categorical_values(df)\n",
        "    df = normalize_data(df)\n",
        "\n",
        "    df['Diagnosis'] = pd.Series(data['Diagnosis'])\n",
        "\n",
        "    # Splitting data into training and testing sets\n",
        "    X_train, X_temp, y_train, y_temp = split_data(df, target_column, random_state=42)\n",
        "\n",
        "    # Splitting the temporary set into cross-validation and testing sets\n",
        "    X_cv, X_test, y_cv, y_test = train_test_split(X_temp, y_temp, test_size=0.5, random_state=42)\n",
        "\n",
        "    save_datasets(X_train, X_test, y_train, y_test, X_cv, y_cv, output_dir)\n",
        "\n",
        "\n",
        "    # Oversample the training, test and cv set\n",
        "    smote = SMOTE(random_state=42)\n",
        "    X_train, y_train = smote.fit_resample(X_train, y_train)\n",
        "    X_test, y_test = smote.fit_resample(X_test, y_test)\n",
        "    X_cv, y_cv = smote.fit_resample(X_cv, y_cv)\n",
        "\n",
        "\n",
        "\n",
        "    # Column analysis for training, cross-validation, and test sets\n",
        "    #perform_eda(pd.concat([X_train, y_train], axis=1), dataset_name=\"Training Set\")\n",
        "    #perform_eda(pd.concat([X_test, y_test], axis=1), dataset_name=\"Test Set\")\n",
        "    #perform_eda(pd.concat([X_cv, y_cv], axis=1), dataset_name=\"Cross Validation Set\")\n",
        "\n",
        "    return X_train, X_test, y_train, y_test, X_cv, y_cv"
      ]
    },
    {
      "cell_type": "code",
      "source": [
        "#connect to drive and get data from drive\n",
        "from google.colab import drive\n",
        "drive.mount('/content/drive')\n",
        "\n",
        "data = pd.read_csv('/content/drive/MyDrive/KamiLimu/iPrevent/diabetes_data.csv',\n",
        "                   index_col= None,\n",
        "                   header = 0,)\n",
        "data.head()"
      ],
      "metadata": {
        "colab": {
          "base_uri": "https://localhost:8080/",
          "height": 273
        },
        "id": "nTRuq1rnzmP3",
        "outputId": "dd3e2d6d-a5e2-4853-8e5a-e2b7e3b66901"
      },
      "execution_count": null,
      "outputs": [
        {
          "output_type": "stream",
          "name": "stdout",
          "text": [
            "Drive already mounted at /content/drive; to attempt to forcibly remount, call drive.mount(\"/content/drive\", force_remount=True).\n"
          ]
        },
        {
          "output_type": "execute_result",
          "data": {
            "text/plain": [
              "   PatientID  Age  Gender  SocioeconomicStatus        BMI  Smoking  \\\n",
              "0       6000   44       0                    2  32.985284        1   \n",
              "1       6001   51       1                    1  39.916764        0   \n",
              "2       6002   89       1                    1  19.782251        0   \n",
              "3       6003   21       1                    1  32.376881        1   \n",
              "4       6004   27       1                    1  16.808600        0   \n",
              "\n",
              "   AlcoholConsumption  PhysicalActivity  DietQuality  SleepQuality  ...  \\\n",
              "0            4.499365          2.443385     4.898831      4.049885  ...   \n",
              "1            1.578919          8.301264     8.941093      7.508150  ...   \n",
              "2            1.177301          6.103395     7.722543      7.708387  ...   \n",
              "3            1.714621          8.645465     4.804044      6.286548  ...   \n",
              "4           15.462549          4.629383     2.532756      9.771125  ...   \n",
              "\n",
              "   AntihypertensiveMedications  AntidiabeticMedications  FrequentUrination  \\\n",
              "0                            0                        1                  0   \n",
              "1                            0                        0                  0   \n",
              "2                            1                        0                  0   \n",
              "3                            0                        1                  0   \n",
              "4                            1                        0                  0   \n",
              "\n",
              "   ExcessiveThirst  UnexplainedWeightLoss  FatigueLevels  BlurredVision  \\\n",
              "0                0                      0       9.534169              0   \n",
              "1                0                      0       0.123214              0   \n",
              "2                0                      0       9.643320              0   \n",
              "3                0                      0       3.403557              0   \n",
              "4                0                      0       2.924687              0   \n",
              "\n",
              "   SlowHealingSores  TinglingHandsFeet  Diagnosis  \n",
              "0                 0                  1          1  \n",
              "1                 0                  0          1  \n",
              "2                 0                  0          0  \n",
              "3                 0                  0          0  \n",
              "4                 0                  0          0  \n",
              "\n",
              "[5 rows x 24 columns]"
            ],
            "text/html": [
              "\n",
              "  <div id=\"df-c7ce4e84-b65c-4700-9321-84c58a56e5c8\" class=\"colab-df-container\">\n",
              "    <div>\n",
              "<style scoped>\n",
              "    .dataframe tbody tr th:only-of-type {\n",
              "        vertical-align: middle;\n",
              "    }\n",
              "\n",
              "    .dataframe tbody tr th {\n",
              "        vertical-align: top;\n",
              "    }\n",
              "\n",
              "    .dataframe thead th {\n",
              "        text-align: right;\n",
              "    }\n",
              "</style>\n",
              "<table border=\"1\" class=\"dataframe\">\n",
              "  <thead>\n",
              "    <tr style=\"text-align: right;\">\n",
              "      <th></th>\n",
              "      <th>PatientID</th>\n",
              "      <th>Age</th>\n",
              "      <th>Gender</th>\n",
              "      <th>SocioeconomicStatus</th>\n",
              "      <th>BMI</th>\n",
              "      <th>Smoking</th>\n",
              "      <th>AlcoholConsumption</th>\n",
              "      <th>PhysicalActivity</th>\n",
              "      <th>DietQuality</th>\n",
              "      <th>SleepQuality</th>\n",
              "      <th>...</th>\n",
              "      <th>AntihypertensiveMedications</th>\n",
              "      <th>AntidiabeticMedications</th>\n",
              "      <th>FrequentUrination</th>\n",
              "      <th>ExcessiveThirst</th>\n",
              "      <th>UnexplainedWeightLoss</th>\n",
              "      <th>FatigueLevels</th>\n",
              "      <th>BlurredVision</th>\n",
              "      <th>SlowHealingSores</th>\n",
              "      <th>TinglingHandsFeet</th>\n",
              "      <th>Diagnosis</th>\n",
              "    </tr>\n",
              "  </thead>\n",
              "  <tbody>\n",
              "    <tr>\n",
              "      <th>0</th>\n",
              "      <td>6000</td>\n",
              "      <td>44</td>\n",
              "      <td>0</td>\n",
              "      <td>2</td>\n",
              "      <td>32.985284</td>\n",
              "      <td>1</td>\n",
              "      <td>4.499365</td>\n",
              "      <td>2.443385</td>\n",
              "      <td>4.898831</td>\n",
              "      <td>4.049885</td>\n",
              "      <td>...</td>\n",
              "      <td>0</td>\n",
              "      <td>1</td>\n",
              "      <td>0</td>\n",
              "      <td>0</td>\n",
              "      <td>0</td>\n",
              "      <td>9.534169</td>\n",
              "      <td>0</td>\n",
              "      <td>0</td>\n",
              "      <td>1</td>\n",
              "      <td>1</td>\n",
              "    </tr>\n",
              "    <tr>\n",
              "      <th>1</th>\n",
              "      <td>6001</td>\n",
              "      <td>51</td>\n",
              "      <td>1</td>\n",
              "      <td>1</td>\n",
              "      <td>39.916764</td>\n",
              "      <td>0</td>\n",
              "      <td>1.578919</td>\n",
              "      <td>8.301264</td>\n",
              "      <td>8.941093</td>\n",
              "      <td>7.508150</td>\n",
              "      <td>...</td>\n",
              "      <td>0</td>\n",
              "      <td>0</td>\n",
              "      <td>0</td>\n",
              "      <td>0</td>\n",
              "      <td>0</td>\n",
              "      <td>0.123214</td>\n",
              "      <td>0</td>\n",
              "      <td>0</td>\n",
              "      <td>0</td>\n",
              "      <td>1</td>\n",
              "    </tr>\n",
              "    <tr>\n",
              "      <th>2</th>\n",
              "      <td>6002</td>\n",
              "      <td>89</td>\n",
              "      <td>1</td>\n",
              "      <td>1</td>\n",
              "      <td>19.782251</td>\n",
              "      <td>0</td>\n",
              "      <td>1.177301</td>\n",
              "      <td>6.103395</td>\n",
              "      <td>7.722543</td>\n",
              "      <td>7.708387</td>\n",
              "      <td>...</td>\n",
              "      <td>1</td>\n",
              "      <td>0</td>\n",
              "      <td>0</td>\n",
              "      <td>0</td>\n",
              "      <td>0</td>\n",
              "      <td>9.643320</td>\n",
              "      <td>0</td>\n",
              "      <td>0</td>\n",
              "      <td>0</td>\n",
              "      <td>0</td>\n",
              "    </tr>\n",
              "    <tr>\n",
              "      <th>3</th>\n",
              "      <td>6003</td>\n",
              "      <td>21</td>\n",
              "      <td>1</td>\n",
              "      <td>1</td>\n",
              "      <td>32.376881</td>\n",
              "      <td>1</td>\n",
              "      <td>1.714621</td>\n",
              "      <td>8.645465</td>\n",
              "      <td>4.804044</td>\n",
              "      <td>6.286548</td>\n",
              "      <td>...</td>\n",
              "      <td>0</td>\n",
              "      <td>1</td>\n",
              "      <td>0</td>\n",
              "      <td>0</td>\n",
              "      <td>0</td>\n",
              "      <td>3.403557</td>\n",
              "      <td>0</td>\n",
              "      <td>0</td>\n",
              "      <td>0</td>\n",
              "      <td>0</td>\n",
              "    </tr>\n",
              "    <tr>\n",
              "      <th>4</th>\n",
              "      <td>6004</td>\n",
              "      <td>27</td>\n",
              "      <td>1</td>\n",
              "      <td>1</td>\n",
              "      <td>16.808600</td>\n",
              "      <td>0</td>\n",
              "      <td>15.462549</td>\n",
              "      <td>4.629383</td>\n",
              "      <td>2.532756</td>\n",
              "      <td>9.771125</td>\n",
              "      <td>...</td>\n",
              "      <td>1</td>\n",
              "      <td>0</td>\n",
              "      <td>0</td>\n",
              "      <td>0</td>\n",
              "      <td>0</td>\n",
              "      <td>2.924687</td>\n",
              "      <td>0</td>\n",
              "      <td>0</td>\n",
              "      <td>0</td>\n",
              "      <td>0</td>\n",
              "    </tr>\n",
              "  </tbody>\n",
              "</table>\n",
              "<p>5 rows × 24 columns</p>\n",
              "</div>\n",
              "    <div class=\"colab-df-buttons\">\n",
              "\n",
              "  <div class=\"colab-df-container\">\n",
              "    <button class=\"colab-df-convert\" onclick=\"convertToInteractive('df-c7ce4e84-b65c-4700-9321-84c58a56e5c8')\"\n",
              "            title=\"Convert this dataframe to an interactive table.\"\n",
              "            style=\"display:none;\">\n",
              "\n",
              "  <svg xmlns=\"http://www.w3.org/2000/svg\" height=\"24px\" viewBox=\"0 -960 960 960\">\n",
              "    <path d=\"M120-120v-720h720v720H120Zm60-500h600v-160H180v160Zm220 220h160v-160H400v160Zm0 220h160v-160H400v160ZM180-400h160v-160H180v160Zm440 0h160v-160H620v160ZM180-180h160v-160H180v160Zm440 0h160v-160H620v160Z\"/>\n",
              "  </svg>\n",
              "    </button>\n",
              "\n",
              "  <style>\n",
              "    .colab-df-container {\n",
              "      display:flex;\n",
              "      gap: 12px;\n",
              "    }\n",
              "\n",
              "    .colab-df-convert {\n",
              "      background-color: #E8F0FE;\n",
              "      border: none;\n",
              "      border-radius: 50%;\n",
              "      cursor: pointer;\n",
              "      display: none;\n",
              "      fill: #1967D2;\n",
              "      height: 32px;\n",
              "      padding: 0 0 0 0;\n",
              "      width: 32px;\n",
              "    }\n",
              "\n",
              "    .colab-df-convert:hover {\n",
              "      background-color: #E2EBFA;\n",
              "      box-shadow: 0px 1px 2px rgba(60, 64, 67, 0.3), 0px 1px 3px 1px rgba(60, 64, 67, 0.15);\n",
              "      fill: #174EA6;\n",
              "    }\n",
              "\n",
              "    .colab-df-buttons div {\n",
              "      margin-bottom: 4px;\n",
              "    }\n",
              "\n",
              "    [theme=dark] .colab-df-convert {\n",
              "      background-color: #3B4455;\n",
              "      fill: #D2E3FC;\n",
              "    }\n",
              "\n",
              "    [theme=dark] .colab-df-convert:hover {\n",
              "      background-color: #434B5C;\n",
              "      box-shadow: 0px 1px 3px 1px rgba(0, 0, 0, 0.15);\n",
              "      filter: drop-shadow(0px 1px 2px rgba(0, 0, 0, 0.3));\n",
              "      fill: #FFFFFF;\n",
              "    }\n",
              "  </style>\n",
              "\n",
              "    <script>\n",
              "      const buttonEl =\n",
              "        document.querySelector('#df-c7ce4e84-b65c-4700-9321-84c58a56e5c8 button.colab-df-convert');\n",
              "      buttonEl.style.display =\n",
              "        google.colab.kernel.accessAllowed ? 'block' : 'none';\n",
              "\n",
              "      async function convertToInteractive(key) {\n",
              "        const element = document.querySelector('#df-c7ce4e84-b65c-4700-9321-84c58a56e5c8');\n",
              "        const dataTable =\n",
              "          await google.colab.kernel.invokeFunction('convertToInteractive',\n",
              "                                                    [key], {});\n",
              "        if (!dataTable) return;\n",
              "\n",
              "        const docLinkHtml = 'Like what you see? Visit the ' +\n",
              "          '<a target=\"_blank\" href=https://colab.research.google.com/notebooks/data_table.ipynb>data table notebook</a>'\n",
              "          + ' to learn more about interactive tables.';\n",
              "        element.innerHTML = '';\n",
              "        dataTable['output_type'] = 'display_data';\n",
              "        await google.colab.output.renderOutput(dataTable, element);\n",
              "        const docLink = document.createElement('div');\n",
              "        docLink.innerHTML = docLinkHtml;\n",
              "        element.appendChild(docLink);\n",
              "      }\n",
              "    </script>\n",
              "  </div>\n",
              "\n",
              "\n",
              "<div id=\"df-09b55972-e6f0-4a15-8aa3-3d8049b90521\">\n",
              "  <button class=\"colab-df-quickchart\" onclick=\"quickchart('df-09b55972-e6f0-4a15-8aa3-3d8049b90521')\"\n",
              "            title=\"Suggest charts\"\n",
              "            style=\"display:none;\">\n",
              "\n",
              "<svg xmlns=\"http://www.w3.org/2000/svg\" height=\"24px\"viewBox=\"0 0 24 24\"\n",
              "     width=\"24px\">\n",
              "    <g>\n",
              "        <path d=\"M19 3H5c-1.1 0-2 .9-2 2v14c0 1.1.9 2 2 2h14c1.1 0 2-.9 2-2V5c0-1.1-.9-2-2-2zM9 17H7v-7h2v7zm4 0h-2V7h2v10zm4 0h-2v-4h2v4z\"/>\n",
              "    </g>\n",
              "</svg>\n",
              "  </button>\n",
              "\n",
              "<style>\n",
              "  .colab-df-quickchart {\n",
              "      --bg-color: #E8F0FE;\n",
              "      --fill-color: #1967D2;\n",
              "      --hover-bg-color: #E2EBFA;\n",
              "      --hover-fill-color: #174EA6;\n",
              "      --disabled-fill-color: #AAA;\n",
              "      --disabled-bg-color: #DDD;\n",
              "  }\n",
              "\n",
              "  [theme=dark] .colab-df-quickchart {\n",
              "      --bg-color: #3B4455;\n",
              "      --fill-color: #D2E3FC;\n",
              "      --hover-bg-color: #434B5C;\n",
              "      --hover-fill-color: #FFFFFF;\n",
              "      --disabled-bg-color: #3B4455;\n",
              "      --disabled-fill-color: #666;\n",
              "  }\n",
              "\n",
              "  .colab-df-quickchart {\n",
              "    background-color: var(--bg-color);\n",
              "    border: none;\n",
              "    border-radius: 50%;\n",
              "    cursor: pointer;\n",
              "    display: none;\n",
              "    fill: var(--fill-color);\n",
              "    height: 32px;\n",
              "    padding: 0;\n",
              "    width: 32px;\n",
              "  }\n",
              "\n",
              "  .colab-df-quickchart:hover {\n",
              "    background-color: var(--hover-bg-color);\n",
              "    box-shadow: 0 1px 2px rgba(60, 64, 67, 0.3), 0 1px 3px 1px rgba(60, 64, 67, 0.15);\n",
              "    fill: var(--button-hover-fill-color);\n",
              "  }\n",
              "\n",
              "  .colab-df-quickchart-complete:disabled,\n",
              "  .colab-df-quickchart-complete:disabled:hover {\n",
              "    background-color: var(--disabled-bg-color);\n",
              "    fill: var(--disabled-fill-color);\n",
              "    box-shadow: none;\n",
              "  }\n",
              "\n",
              "  .colab-df-spinner {\n",
              "    border: 2px solid var(--fill-color);\n",
              "    border-color: transparent;\n",
              "    border-bottom-color: var(--fill-color);\n",
              "    animation:\n",
              "      spin 1s steps(1) infinite;\n",
              "  }\n",
              "\n",
              "  @keyframes spin {\n",
              "    0% {\n",
              "      border-color: transparent;\n",
              "      border-bottom-color: var(--fill-color);\n",
              "      border-left-color: var(--fill-color);\n",
              "    }\n",
              "    20% {\n",
              "      border-color: transparent;\n",
              "      border-left-color: var(--fill-color);\n",
              "      border-top-color: var(--fill-color);\n",
              "    }\n",
              "    30% {\n",
              "      border-color: transparent;\n",
              "      border-left-color: var(--fill-color);\n",
              "      border-top-color: var(--fill-color);\n",
              "      border-right-color: var(--fill-color);\n",
              "    }\n",
              "    40% {\n",
              "      border-color: transparent;\n",
              "      border-right-color: var(--fill-color);\n",
              "      border-top-color: var(--fill-color);\n",
              "    }\n",
              "    60% {\n",
              "      border-color: transparent;\n",
              "      border-right-color: var(--fill-color);\n",
              "    }\n",
              "    80% {\n",
              "      border-color: transparent;\n",
              "      border-right-color: var(--fill-color);\n",
              "      border-bottom-color: var(--fill-color);\n",
              "    }\n",
              "    90% {\n",
              "      border-color: transparent;\n",
              "      border-bottom-color: var(--fill-color);\n",
              "    }\n",
              "  }\n",
              "</style>\n",
              "\n",
              "  <script>\n",
              "    async function quickchart(key) {\n",
              "      const quickchartButtonEl =\n",
              "        document.querySelector('#' + key + ' button');\n",
              "      quickchartButtonEl.disabled = true;  // To prevent multiple clicks.\n",
              "      quickchartButtonEl.classList.add('colab-df-spinner');\n",
              "      try {\n",
              "        const charts = await google.colab.kernel.invokeFunction(\n",
              "            'suggestCharts', [key], {});\n",
              "      } catch (error) {\n",
              "        console.error('Error during call to suggestCharts:', error);\n",
              "      }\n",
              "      quickchartButtonEl.classList.remove('colab-df-spinner');\n",
              "      quickchartButtonEl.classList.add('colab-df-quickchart-complete');\n",
              "    }\n",
              "    (() => {\n",
              "      let quickchartButtonEl =\n",
              "        document.querySelector('#df-09b55972-e6f0-4a15-8aa3-3d8049b90521 button');\n",
              "      quickchartButtonEl.style.display =\n",
              "        google.colab.kernel.accessAllowed ? 'block' : 'none';\n",
              "    })();\n",
              "  </script>\n",
              "</div>\n",
              "\n",
              "    </div>\n",
              "  </div>\n"
            ],
            "application/vnd.google.colaboratory.intrinsic+json": {
              "type": "dataframe",
              "variable_name": "data"
            }
          },
          "metadata": {},
          "execution_count": 17
        }
      ]
    },
    {
      "cell_type": "code",
      "source": [
        "print(data['Diagnosis'].dtype)\n",
        "\n",
        "print(data['Diagnosis'].unique())"
      ],
      "metadata": {
        "colab": {
          "base_uri": "https://localhost:8080/"
        },
        "id": "SKIjWwEyGvTf",
        "outputId": "f2e5a464-f198-40bc-c473-763c8f27a250"
      },
      "execution_count": null,
      "outputs": [
        {
          "output_type": "stream",
          "name": "stdout",
          "text": [
            "int64\n",
            "[1 0]\n"
          ]
        }
      ]
    },
    {
      "cell_type": "code",
      "source": [
        "x=data.drop([\"Diagnosis\"],axis=1)\n",
        "y=data[\"Diagnosis\"]\n",
        "\n",
        "count_class = y.value_counts() # Count the occurrences of each class\n",
        "plt.bar(count_class.index, count_class.values)\n",
        "plt.xlabel('Class')\n",
        "plt.ylabel('Count')\n",
        "plt.title('Class Distribution')\n",
        "plt.show()\n"
      ],
      "metadata": {
        "colab": {
          "base_uri": "https://localhost:8080/",
          "height": 472
        },
        "id": "tS6goI-E9c_9",
        "outputId": "e3f63150-1883-4527-9781-e412e01996c5"
      },
      "execution_count": null,
      "outputs": [
        {
          "output_type": "display_data",
          "data": {
            "text/plain": [
              "<Figure size 640x480 with 1 Axes>"
            ],
            "image/png": "[encoded data removed]"
          },
          "metadata": {}
        }
      ]
    },
    {
      "cell_type": "code",
      "source": [
        "#find unique values in a column\n",
        "data[\"Diagnosis\"].unique()"
      ],
      "metadata": {
        "colab": {
          "base_uri": "https://localhost:8080/"
        },
        "id": "rQcLzTCeC134",
        "outputId": "708f7f13-f2a3-4188-836e-17b94bf39420"
      },
      "execution_count": null,
      "outputs": [
        {
          "output_type": "execute_result",
          "data": {
            "text/plain": [
              "array([1, 0])"
            ]
          },
          "metadata": {},
          "execution_count": 14
        }
      ]
    },
    {
      "cell_type": "code",
      "execution_count": null,
      "metadata": {
        "colab": {
          "base_uri": "https://localhost:8080/"
        },
        "id": "z08KC2BmzEco",
        "outputId": "f0107dbf-3214-4fd9-f0a3-d42d935c22ae"
      },
      "outputs": [
        {
          "output_type": "stream",
          "name": "stdout",
          "text": [
            "Datasets saved to /content/drive/MyDrive/KamiLimu/iPrevent\n"
          ]
        }
      ],
      "source": [
        "if __name__ == \"__main__\":\n",
        "    target_column = \"Diagnosis\"  # Target variable\n",
        "    output_dir = r\"/content/drive/MyDrive/KamiLimu/iPrevent\"  # Directory to save\n",
        "    X_train, X_test, y_train, y_test, X_cv, y_cv = main(data, target_column, output_dir)"
      ]
    },
    {
      "cell_type": "markdown",
      "source": [
        "## Model Training"
      ],
      "metadata": {
        "id": "4tSE5y4HKxT7"
      }
    },
    {
      "cell_type": "code",
      "source": [
        "#importing libraries needed for the model\n",
        "\n",
        "from sklearn.ensemble import RandomForestClassifier\n",
        "from sklearn.metrics import accuracy_score, precision_score, recall_score, f1_score\n",
        "from sklearn.metrics import confusion_matrix\n",
        "from sklearn.metrics import classification_report"
      ],
      "metadata": {
        "id": "oMis6aUXKzz7"
      },
      "execution_count": null,
      "outputs": []
    },
    {
      "cell_type": "code",
      "source": [
        "#create an instance of the classifier with default parameters\n",
        "clf = RandomForestClassifier(random_state=42,\n",
        "                             bootstrap= False,\n",
        "                             max_depth=30,\n",
        "                             max_features = 'sqrt',\n",
        "                             min_samples_leaf= 1, min_samples_split = 2,\n",
        "                             n_estimators= 200)\n",
        "\n",
        "#fit the model\n",
        "clf.fit(X_train, y_train)\n",
        "\n",
        "feature_importances = clf.feature_importances_\n",
        "\n",
        "# Create a DataFrame\n",
        "importances_df = pd.DataFrame({'feature': X_train.columns, 'importance': feature_importances})\n",
        "\n",
        "# Sort by importance\n",
        "importances_df = importances_df.sort_values(by='importance', ascending=False)\n",
        "\n",
        "print(importances_df)\n",
        "\n",
        "#make predictions on the test set\n",
        "y_pred = clf.predict(X_cv)\n",
        "\n",
        "#calculate accuracy, precision_recall, f1_score\n",
        "accuracy = accuracy_score(y_cv, y_pred)\n",
        "print(\"Accuracy:\", accuracy)\n",
        "precision = precision_score(y_cv, y_pred, average='weighted')\n",
        "print(\"Precision:\", precision)\n",
        "recall = recall_score(y_cv, y_pred, average='weighted')\n",
        "print(\"Recall:\", recall)\n",
        "f1 = f1_score(y_cv, y_pred, average='weighted')\n",
        "print(\"F1 Score:\", f1)"
      ],
      "metadata": {
        "colab": {
          "base_uri": "https://localhost:8080/"
        },
        "id": "ABn7X6KQLVAi",
        "outputId": "1b9fb8af-aef0-4326-cb0c-e1072906c7cd"
      },
      "execution_count": null,
      "outputs": [
        {
          "output_type": "stream",
          "name": "stdout",
          "text": [
            "                        feature  importance\n",
            "7                   DietQuality    0.094534\n",
            "22                      Age_BMI    0.094395\n",
            "8                  SleepQuality    0.092410\n",
            "6              PhysicalActivity    0.091132\n",
            "18                FatigueLevels    0.090856\n",
            "3                           BMI    0.090121\n",
            "5            AlcoholConsumption    0.089768\n",
            "0                           Age    0.081185\n",
            "2           SocioeconomicStatus    0.043627\n",
            "15            FrequentUrination    0.027491\n",
            "12                 Hypertension    0.023612\n",
            "1                        Gender    0.021654\n",
            "4                       Smoking    0.021199\n",
            "9         FamilyHistoryDiabetes    0.018079\n",
            "16              ExcessiveThirst    0.017753\n",
            "13  AntihypertensiveMedications    0.017711\n",
            "14      AntidiabeticMedications    0.017160\n",
            "11          PreviousPreDiabetes    0.013895\n",
            "21            TinglingHandsFeet    0.011756\n",
            "17        UnexplainedWeightLoss    0.011591\n",
            "19                BlurredVision    0.010494\n",
            "10          GestationalDiabetes    0.010066\n",
            "20             SlowHealingSores    0.009510\n",
            "Accuracy: 0.7024793388429752\n",
            "Precision: 0.7081665613369847\n",
            "Recall: 0.7024793388429752\n",
            "F1 Score: 0.7004332576851661\n"
          ]
        }
      ]
    },
    {
      "cell_type": "code",
      "source": [
        "#import libraries for XGBoost and stacking\n",
        "from xgboost import XGBClassifier\n",
        "from sklearn.ensemble import StackingClassifier\n",
        "from sklearn.linear_model import LogisticRegression"
      ],
      "metadata": {
        "id": "PkpnE1DPwR7X"
      },
      "execution_count": null,
      "outputs": []
    },
    {
      "cell_type": "code",
      "source": [
        "#create an instance of the xgboost\n",
        "xgb = XGBClassifier(use_label_encoder=False, eval_metric='mlogloss',random_state=42)\n",
        "\n",
        "#fit the model\n",
        "xgb.fit(X_train, y_train)\n",
        "\n",
        "#make prediction on the test set\n",
        "y_pred_xgb = xgb.predict(X_test)\n",
        "\n",
        "#calculate accuracy, precision_recall, f1_score\n",
        "accuracy = accuracy_score(y_test, y_pred_xgb)\n",
        "print(\"Accuracy:\", accuracy)"
      ],
      "metadata": {
        "colab": {
          "base_uri": "https://localhost:8080/"
        },
        "id": "AQu_aUBZw1gs",
        "outputId": "b88a8f93-bafe-4d00-e703-0898cdb2fbdd"
      },
      "execution_count": null,
      "outputs": [
        {
          "output_type": "stream",
          "name": "stderr",
          "text": [
            "/usr/local/lib/python3.10/dist-packages/xgboost/core.py:158: UserWarning: [06:50:30] WARNING: /workspace/src/learner.cc:740: \n",
            "Parameters: { \"use_label_encoder\" } are not used.\n",
            "\n",
            "  warnings.warn(smsg, UserWarning)\n"
          ]
        },
        {
          "output_type": "stream",
          "name": "stdout",
          "text": [
            "Accuracy: 0.5714285714285714\n"
          ]
        }
      ]
    },
    {
      "cell_type": "code",
      "source": [
        "#import gradient boosting\n",
        "from sklearn.ensemble import GradientBoostingClassifier\n",
        "\n",
        "#create an instance of the gradient boosting classifier\n",
        "gbm = GradientBoostingClassifier(subsample=0.7, n_estimators=900,\n",
        "                                 min_samples_leaf= 2,\n",
        "                                 min_impurity_decrease=0.05,\n",
        "                                 max_features='sqrt', max_depth=7,\n",
        "                                 loss='exponential',\n",
        "                                 learning_rate=0.01,\n",
        "                                 criterion='friedman_mse')\n",
        "\n",
        "#fit the model\n",
        "gbm.fit(X_train, y_train)\n",
        "\n",
        "#make prediction on the test set\n",
        "y_pred_gbm = gbm.predict(X_cv)\n",
        "\n",
        "#calculate accuracy, precision_recall, f1\n",
        "accuracy = accuracy_score(y_cv, y_pred_gbm)\n",
        "print(\"Accuracy:\", accuracy)"
      ],
      "metadata": {
        "colab": {
          "base_uri": "https://localhost:8080/"
        },
        "id": "HHDw9T-np2pN",
        "outputId": "eab84c58-30a5-4666-cfa6-f415e0bf9160"
      },
      "execution_count": null,
      "outputs": [
        {
          "output_type": "stream",
          "name": "stdout",
          "text": [
            "Accuracy: 0.6694214876033058\n"
          ]
        }
      ]
    },
    {
      "cell_type": "markdown",
      "source": [
        "## Model tuning\n",
        "Since we've gotten pretty bad initial results, let's tune the mdoel a bit\n"
      ],
      "metadata": {
        "id": "bzUvgkbqLyeQ"
      }
    },
    {
      "cell_type": "code",
      "source": [
        "#import gridsearchcv\n",
        "from sklearn.model_selection import GridSearchCV\n",
        "\n",
        "#create parameter grid for searching\n",
        "param_grid = {\n",
        "    'n_estimators': [100, 200, 300, 400, 500],\n",
        "    'max_features': ['auto', 'sqrt', 'log2'],\n",
        "    'max_depth': [None, 10, 20, 30, 40, 50],\n",
        "    'min_samples_split': [2, 5, 10],\n",
        "    'min_samples_leaf': [1, 2, 4],\n",
        "    'bootstrap': [True, False]\n",
        "}\n",
        "\n",
        "\n",
        "#create an object of gridsearchcv\n",
        "grid_search = GridSearchCV(estimator=clf, param_grid=param_grid, cv=5, n_jobs=-1)\n",
        "\n",
        "#fit the model\n",
        "grid_search.fit(X_train, y_train)\n",
        "\n",
        "print(f\"Best parameters include: {grid_search.best_params_}\")\n",
        "print(f\"Best score: {grid_search.best_score_}\")"
      ],
      "metadata": {
        "colab": {
          "base_uri": "https://localhost:8080/"
        },
        "id": "_rA46XqaL5MA",
        "outputId": "dd84c01d-05f5-429e-85b2-0e90786fa578"
      },
      "execution_count": null,
      "outputs": [
        {
          "output_type": "stream",
          "name": "stderr",
          "text": [
            "/usr/local/lib/python3.10/dist-packages/sklearn/model_selection/_validation.py:540: FitFailedWarning: \n",
            "2700 fits failed out of a total of 8100.\n",
            "The score on these train-test partitions for these parameters will be set to nan.\n",
            "If these failures are not expected, you can try to debug them by setting error_score='raise'.\n",
            "\n",
            "Below are more details about the failures:\n",
            "--------------------------------------------------------------------------------\n",
            "1311 fits failed with the following error:\n",
            "Traceback (most recent call last):\n",
            "  File \"/usr/local/lib/python3.10/dist-packages/sklearn/model_selection/_validation.py\", line 888, in _fit_and_score\n",
            "    estimator.fit(X_train, y_train, **fit_params)\n",
            "  File \"/usr/local/lib/python3.10/dist-packages/sklearn/base.py\", line 1466, in wrapper\n",
            "    estimator._validate_params()\n",
            "  File \"/usr/local/lib/python3.10/dist-packages/sklearn/base.py\", line 666, in _validate_params\n",
            "    validate_parameter_constraints(\n",
            "  File \"/usr/local/lib/python3.10/dist-packages/sklearn/utils/_param_validation.py\", line 95, in validate_parameter_constraints\n",
            "    raise InvalidParameterError(\n",
            "sklearn.utils._param_validation.InvalidParameterError: The 'max_features' parameter of RandomForestClassifier must be an int in the range [1, inf), a float in the range (0.0, 1.0], a str among {'log2', 'sqrt'} or None. Got 'auto' instead.\n",
            "\n",
            "--------------------------------------------------------------------------------\n",
            "1389 fits failed with the following error:\n",
            "Traceback (most recent call last):\n",
            "  File \"/usr/local/lib/python3.10/dist-packages/sklearn/model_selection/_validation.py\", line 888, in _fit_and_score\n",
            "    estimator.fit(X_train, y_train, **fit_params)\n",
            "  File \"/usr/local/lib/python3.10/dist-packages/sklearn/base.py\", line 1466, in wrapper\n",
            "    estimator._validate_params()\n",
            "  File \"/usr/local/lib/python3.10/dist-packages/sklearn/base.py\", line 666, in _validate_params\n",
            "    validate_parameter_constraints(\n",
            "  File \"/usr/local/lib/python3.10/dist-packages/sklearn/utils/_param_validation.py\", line 95, in validate_parameter_constraints\n",
            "    raise InvalidParameterError(\n",
            "sklearn.utils._param_validation.InvalidParameterError: The 'max_features' parameter of RandomForestClassifier must be an int in the range [1, inf), a float in the range (0.0, 1.0], a str among {'sqrt', 'log2'} or None. Got 'auto' instead.\n",
            "\n",
            "  warnings.warn(some_fits_failed_message, FitFailedWarning)\n",
            "/usr/local/lib/python3.10/dist-packages/numpy/ma/core.py:2820: RuntimeWarning: invalid value encountered in cast\n",
            "  _data = np.array(data, dtype=dtype, copy=copy,\n",
            "/usr/local/lib/python3.10/dist-packages/sklearn/model_selection/_search.py:1103: UserWarning: One or more of the test scores are non-finite: [       nan        nan        nan ... 0.66843341 0.6706743  0.67290894]\n",
            "  warnings.warn(\n"
          ]
        },
        {
          "output_type": "stream",
          "name": "stdout",
          "text": [
            "Best parameters include: {'bootstrap': False, 'max_depth': 30, 'max_features': 'sqrt', 'min_samples_leaf': 1, 'min_samples_split': 2, 'n_estimators': 200}\n",
            "Best score: 0.6958437006087351\n"
          ]
        }
      ]
    },
    {
      "cell_type": "code",
      "source": [
        "#import randomizedsearchcv\n",
        "from sklearn.model_selection import RandomizedSearchCV as RCV\n",
        "import numpy as np\n",
        "\n",
        "#create parameter dist for searching\n",
        "param_grid = {\n",
        "    'n_estimators': np.arange(50, 200, 50),\n",
        "    'max_depth': np.arange(3, 10, 1),\n",
        "    'learning_rate': np.linspace(0.01, 0.3, 10),\n",
        "    'subsample': np.linspace(0.5, 1.0, 10),\n",
        "    'colsample_bytree': np.linspace(0.5, 1.0, 10),\n",
        "    'min_child_weight': np.arange(1, 10, 1),\n",
        "    'gamma': np.linspace(0, 0.5, 10)\n",
        "}\n",
        "\n",
        "#create an object of rcv\n",
        "random_search = RCV(estimator=xgb,\n",
        "                    param_distributions=param_grid,\n",
        "                    n_iter = 100, cv=5,\n",
        "                    random_state= 42, n_jobs=-1)\n",
        "\n",
        "#fit the model\n",
        "random_search.fit(X_train, y_train)\n",
        "\n",
        "print(f\"Best parameters include: {random_search.best_params_}\")\n",
        "print(f\"Best score: {random_search.best_score_}\")"
      ],
      "metadata": {
        "colab": {
          "base_uri": "https://localhost:8080/"
        },
        "id": "L_Sqc4_sxqKa",
        "outputId": "8c8b8a01-5df3-4ff8-c691-3a9d987ecc05"
      },
      "execution_count": null,
      "outputs": [
        {
          "output_type": "stream",
          "name": "stderr",
          "text": [
            "/usr/local/lib/python3.10/dist-packages/xgboost/core.py:158: UserWarning: [06:11:13] WARNING: /workspace/src/learner.cc:740: \n",
            "Parameters: { \"use_label_encoder\" } are not used.\n",
            "\n",
            "  warnings.warn(smsg, UserWarning)\n"
          ]
        },
        {
          "output_type": "stream",
          "name": "stdout",
          "text": [
            "Best parameters include: {'subsample': 0.9444444444444444, 'n_estimators': 50, 'min_child_weight': 1, 'max_depth': 8, 'learning_rate': 0.1711111111111111, 'gamma': 0.16666666666666666, 'colsample_bytree': 0.5555555555555556}\n",
            "Best score: 0.6527518269877783\n"
          ]
        }
      ]
    },
    {
      "cell_type": "code",
      "source": [
        "#import randomizedsearchcv\n",
        "from sklearn.model_selection import RandomizedSearchCV as RCV\n",
        "import numpy as np\n",
        "\n",
        "#create parameter dist for searching\n",
        "param_dist = {\n",
        "    'n_estimators': [100, 200, 300, 400, 500, 600, 700, 800, 900, 1000],\n",
        "    'learning_rate': [0.001, 0.01, 0.1, 0.05, 0.2, 0.3, 0.5],\n",
        "    'max_depth': [3, 4, 5, 6, 7, 8, 9, 10],\n",
        "    'min_samples_split': [2, 5, 10, 15, 20, 30, 40],\n",
        "    'min_samples_leaf': [1, 2, 4, 6, 8, 10, 12, 14],\n",
        "    'max_features': ['auto', 'sqrt', 'log2', None],\n",
        "    'subsample': [0.6, 0.7, 0.8, 0.9, 1.0],\n",
        "    'criterion': ['friedman_mse', 'mse', 'mae'],\n",
        "    'loss': ['deviance', 'exponential'],\n",
        "    'min_impurity_decrease': [0.0, 0.01, 0.05, 0.1]\n",
        "}\n",
        "\n",
        "#create an object of rcv\n",
        "random_search = RCV(estimator=gbm,\n",
        "                    param_distributions=param_dist,\n",
        "                    n_iter = 100, cv=5,\n",
        "                    random_state= 42, n_jobs=-1)\n",
        "\n",
        "#fit the model\n",
        "random_search.fit(X_train, y_train)\n",
        "\n",
        "print(f\"Best parameters include: {random_search.best_params_}\")\n",
        "print(f\"Best score: {random_search.best_score_}\")\n"
      ],
      "metadata": {
        "colab": {
          "base_uri": "https://localhost:8080/"
        },
        "id": "QHqNPfYnrs8u",
        "outputId": "c6613c98-b5de-47ac-ec3a-c436886370a4"
      },
      "execution_count": null,
      "outputs": [
        {
          "output_type": "stream",
          "name": "stderr",
          "text": [
            "/usr/local/lib/python3.10/dist-packages/sklearn/model_selection/_validation.py:540: FitFailedWarning: \n",
            "415 fits failed out of a total of 500.\n",
            "The score on these train-test partitions for these parameters will be set to nan.\n",
            "If these failures are not expected, you can try to debug them by setting error_score='raise'.\n",
            "\n",
            "Below are more details about the failures:\n",
            "--------------------------------------------------------------------------------\n",
            "50 fits failed with the following error:\n",
            "Traceback (most recent call last):\n",
            "  File \"/usr/local/lib/python3.10/dist-packages/sklearn/model_selection/_validation.py\", line 888, in _fit_and_score\n",
            "    estimator.fit(X_train, y_train, **fit_params)\n",
            "  File \"/usr/local/lib/python3.10/dist-packages/sklearn/base.py\", line 1466, in wrapper\n",
            "    estimator._validate_params()\n",
            "  File \"/usr/local/lib/python3.10/dist-packages/sklearn/base.py\", line 666, in _validate_params\n",
            "    validate_parameter_constraints(\n",
            "  File \"/usr/local/lib/python3.10/dist-packages/sklearn/utils/_param_validation.py\", line 95, in validate_parameter_constraints\n",
            "    raise InvalidParameterError(\n",
            "sklearn.utils._param_validation.InvalidParameterError: The 'criterion' parameter of GradientBoostingClassifier must be a str among {'squared_error', 'friedman_mse'}. Got 'mae' instead.\n",
            "\n",
            "--------------------------------------------------------------------------------\n",
            "115 fits failed with the following error:\n",
            "Traceback (most recent call last):\n",
            "  File \"/usr/local/lib/python3.10/dist-packages/sklearn/model_selection/_validation.py\", line 888, in _fit_and_score\n",
            "    estimator.fit(X_train, y_train, **fit_params)\n",
            "  File \"/usr/local/lib/python3.10/dist-packages/sklearn/base.py\", line 1466, in wrapper\n",
            "    estimator._validate_params()\n",
            "  File \"/usr/local/lib/python3.10/dist-packages/sklearn/base.py\", line 666, in _validate_params\n",
            "    validate_parameter_constraints(\n",
            "  File \"/usr/local/lib/python3.10/dist-packages/sklearn/utils/_param_validation.py\", line 95, in validate_parameter_constraints\n",
            "    raise InvalidParameterError(\n",
            "sklearn.utils._param_validation.InvalidParameterError: The 'criterion' parameter of GradientBoostingClassifier must be a str among {'friedman_mse', 'squared_error'}. Got 'mae' instead.\n",
            "\n",
            "--------------------------------------------------------------------------------\n",
            "93 fits failed with the following error:\n",
            "Traceback (most recent call last):\n",
            "  File \"/usr/local/lib/python3.10/dist-packages/sklearn/model_selection/_validation.py\", line 888, in _fit_and_score\n",
            "    estimator.fit(X_train, y_train, **fit_params)\n",
            "  File \"/usr/local/lib/python3.10/dist-packages/sklearn/base.py\", line 1466, in wrapper\n",
            "    estimator._validate_params()\n",
            "  File \"/usr/local/lib/python3.10/dist-packages/sklearn/base.py\", line 666, in _validate_params\n",
            "    validate_parameter_constraints(\n",
            "  File \"/usr/local/lib/python3.10/dist-packages/sklearn/utils/_param_validation.py\", line 95, in validate_parameter_constraints\n",
            "    raise InvalidParameterError(\n",
            "sklearn.utils._param_validation.InvalidParameterError: The 'criterion' parameter of GradientBoostingClassifier must be a str among {'friedman_mse', 'squared_error'}. Got 'mse' instead.\n",
            "\n",
            "--------------------------------------------------------------------------------\n",
            "47 fits failed with the following error:\n",
            "Traceback (most recent call last):\n",
            "  File \"/usr/local/lib/python3.10/dist-packages/sklearn/model_selection/_validation.py\", line 888, in _fit_and_score\n",
            "    estimator.fit(X_train, y_train, **fit_params)\n",
            "  File \"/usr/local/lib/python3.10/dist-packages/sklearn/base.py\", line 1466, in wrapper\n",
            "    estimator._validate_params()\n",
            "  File \"/usr/local/lib/python3.10/dist-packages/sklearn/base.py\", line 666, in _validate_params\n",
            "    validate_parameter_constraints(\n",
            "  File \"/usr/local/lib/python3.10/dist-packages/sklearn/utils/_param_validation.py\", line 95, in validate_parameter_constraints\n",
            "    raise InvalidParameterError(\n",
            "sklearn.utils._param_validation.InvalidParameterError: The 'criterion' parameter of GradientBoostingClassifier must be a str among {'squared_error', 'friedman_mse'}. Got 'mse' instead.\n",
            "\n",
            "--------------------------------------------------------------------------------\n",
            "95 fits failed with the following error:\n",
            "Traceback (most recent call last):\n",
            "  File \"/usr/local/lib/python3.10/dist-packages/sklearn/model_selection/_validation.py\", line 888, in _fit_and_score\n",
            "    estimator.fit(X_train, y_train, **fit_params)\n",
            "  File \"/usr/local/lib/python3.10/dist-packages/sklearn/base.py\", line 1466, in wrapper\n",
            "    estimator._validate_params()\n",
            "  File \"/usr/local/lib/python3.10/dist-packages/sklearn/base.py\", line 666, in _validate_params\n",
            "    validate_parameter_constraints(\n",
            "  File \"/usr/local/lib/python3.10/dist-packages/sklearn/utils/_param_validation.py\", line 95, in validate_parameter_constraints\n",
            "    raise InvalidParameterError(\n",
            "sklearn.utils._param_validation.InvalidParameterError: The 'loss' parameter of GradientBoostingClassifier must be a str among {'log_loss', 'exponential'}. Got 'deviance' instead.\n",
            "\n",
            "--------------------------------------------------------------------------------\n",
            "15 fits failed with the following error:\n",
            "Traceback (most recent call last):\n",
            "  File \"/usr/local/lib/python3.10/dist-packages/sklearn/model_selection/_validation.py\", line 888, in _fit_and_score\n",
            "    estimator.fit(X_train, y_train, **fit_params)\n",
            "  File \"/usr/local/lib/python3.10/dist-packages/sklearn/base.py\", line 1466, in wrapper\n",
            "    estimator._validate_params()\n",
            "  File \"/usr/local/lib/python3.10/dist-packages/sklearn/base.py\", line 666, in _validate_params\n",
            "    validate_parameter_constraints(\n",
            "  File \"/usr/local/lib/python3.10/dist-packages/sklearn/utils/_param_validation.py\", line 95, in validate_parameter_constraints\n",
            "    raise InvalidParameterError(\n",
            "sklearn.utils._param_validation.InvalidParameterError: The 'max_features' parameter of GradientBoostingClassifier must be an int in the range [1, inf), a float in the range (0.0, 1.0], a str among {'sqrt', 'log2'} or None. Got 'auto' instead.\n",
            "\n",
            "  warnings.warn(some_fits_failed_message, FitFailedWarning)\n",
            "/usr/local/lib/python3.10/dist-packages/sklearn/model_selection/_search.py:1103: UserWarning: One or more of the test scores are non-finite: [       nan        nan        nan        nan        nan        nan\n",
            "        nan        nan        nan        nan        nan        nan\n",
            "        nan        nan        nan        nan        nan        nan\n",
            "        nan        nan        nan        nan        nan 0.63711876\n",
            "        nan        nan        nan        nan        nan        nan\n",
            "        nan        nan        nan        nan        nan        nan\n",
            "        nan        nan 0.62762781        nan        nan        nan\n",
            "        nan        nan        nan 0.64158803        nan        nan\n",
            "        nan        nan        nan        nan        nan 0.64326244\n",
            "        nan        nan        nan        nan 0.65334022 0.64606826\n",
            " 0.6449306         nan        nan        nan 0.63038668 0.66339921\n",
            "        nan        nan 0.63601709 0.65388792        nan 0.62928188\n",
            "        nan        nan        nan 0.62872166 0.63432233        nan\n",
            "        nan        nan        nan        nan        nan        nan\n",
            "        nan        nan        nan        nan        nan        nan\n",
            "        nan        nan 0.64212791 0.66395787        nan        nan\n",
            "        nan        nan        nan 0.64659093]\n",
            "  warnings.warn(\n"
          ]
        },
        {
          "output_type": "stream",
          "name": "stdout",
          "text": [
            "Best parameters include: {'subsample': 0.7, 'n_estimators': 900, 'min_samples_split': 15, 'min_samples_leaf': 2, 'min_impurity_decrease': 0.05, 'max_features': 'sqrt', 'max_depth': 7, 'loss': 'exponential', 'learning_rate': 0.01, 'criterion': 'friedman_mse'}\n",
            "Best score: 0.6639578736522541\n"
          ]
        }
      ]
    },
    {
      "cell_type": "markdown",
      "source": [
        "## Ensemble learning"
      ],
      "metadata": {
        "id": "_ziidvaWuqVf"
      }
    },
    {
      "cell_type": "code",
      "source": [
        "from sklearn.ensemble import StackingClassifier\n",
        "from sklearn.linear_model import LogisticRegression as LR\n",
        "\n",
        "estimators = [\n",
        "    ('gbm', gbm),\n",
        "    ('rf', clf)\n",
        "]\n",
        "\n",
        "stacked_model = StackingClassifier(estimators=estimators, final_estimator=LR())\n",
        "\n",
        "stacked_model.fit(X_train, y_train)\n",
        "\n",
        "predictions = stacked_model.predict(X_test)\n",
        "accuracy = accuracy_score(y_test, predictions)\n",
        "print(f\"Accuracy: {accuracy}\")\n"
      ],
      "metadata": {
        "colab": {
          "base_uri": "https://localhost:8080/"
        },
        "id": "yMYA_dlPuqDn",
        "outputId": "27e7051b-c234-46d5-9437-7bba6cc97f20"
      },
      "execution_count": null,
      "outputs": [
        {
          "output_type": "stream",
          "name": "stdout",
          "text": [
            "Accuracy: 0.6116071428571429\n"
          ]
        }
      ]
    }
  ],
  "metadata": {
    "kernelspec": {
      "display_name": "Python 3",
      "name": "python3"
    },
    "language_info": {
      "codemirror_mode": {
        "name": "ipython",
        "version": 3
      },
      "file_extension": ".py",
      "mimetype": "text/x-python",
      "name": "python",
      "nbconvert_exporter": "python",
      "pygments_lexer": "ipython3",
      "version": "3.6.4"
    },
    "colab": {
      "provenance": [],
      "include_colab_link": true
    }
  },
  "nbformat": 4,
  "nbformat_minor": 0
}